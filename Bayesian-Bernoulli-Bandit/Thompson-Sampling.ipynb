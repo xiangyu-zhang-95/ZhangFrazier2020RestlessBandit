{
 "cells": [
  {
   "cell_type": "code",
   "execution_count": 6,
   "metadata": {},
   "outputs": [],
   "source": [
    "import numpy as np\n",
    "import pandas as pd\n",
    "import time\n",
    "\n",
    "def TS_policy_simulation(T, K, alpha, times, a0= 1, b0 = 1):\n",
    "    rewards = []\n",
    "    start = time.time()\n",
    "    for _ in range(times):\n",
    "        state = {(a0, b0): K}\n",
    "        reward_total = 0\n",
    "        for t in range(T):\n",
    "            # sample posterior\n",
    "            \n",
    "            \"\"\"\n",
    "            count = 0\n",
    "            for a, b in state:\n",
    "                count += state[(a, b)]\n",
    "            print(count)\n",
    "            count = 0\n",
    "            \"\"\"\n",
    "            \n",
    "            posterior_sample = []\n",
    "            for a, b in state:\n",
    "                val_list = np.random.beta(a, b, state[(a, b)])\n",
    "                for val in val_list:\n",
    "                    posterior_sample.append((val, a, b))\n",
    "            posterior_sample.sort(reverse = True)\n",
    "            \n",
    "            # choose the arms to pull\n",
    "            for i in range(int(alpha * K)):\n",
    "                _, a, b = posterior_sample[i]\n",
    "                theta = np.random.beta(a, b)\n",
    "                outcome = int(np.random.binomial(1, theta))\n",
    "                \n",
    "                reward_total += outcome\n",
    "                \n",
    "                state[(a, b)] -= 1\n",
    "                tmp = state.get((a + outcome, b + 1 - outcome), 0)\n",
    "                state[(a + outcome, b + 1 - outcome)] = tmp  + 1\n",
    "            \n",
    "        rewards.append(reward_total)\n",
    "    rewards = np.array(rewards)\n",
    "    end = time.time()\n",
    "    return K, times, np.mean(rewards), np.std(rewards), end - start"
   ]
  },
  {
   "cell_type": "code",
   "execution_count": 7,
   "metadata": {},
   "outputs": [
    {
     "data": {
      "text/plain": [
       "(150, 7500, 485.0677333333333, 22.431304291002686, 38.00386691093445)"
      ]
     },
     "execution_count": 7,
     "metadata": {},
     "output_type": "execute_result"
    }
   ],
   "source": [
    "TS_policy_simulation(T=15, K=150, alpha=1/3, times=50*150, a0= 1, b0 = 1)"
   ]
  },
  {
   "cell_type": "code",
   "execution_count": null,
   "metadata": {},
   "outputs": [],
   "source": []
  }
 ],
 "metadata": {
  "kernelspec": {
   "display_name": "Python 3",
   "language": "python",
   "name": "python3"
  },
  "language_info": {
   "codemirror_mode": {
    "name": "ipython",
    "version": 3
   },
   "file_extension": ".py",
   "mimetype": "text/x-python",
   "name": "python",
   "nbconvert_exporter": "python",
   "pygments_lexer": "ipython3",
   "version": "3.7.4"
  }
 },
 "nbformat": 4,
 "nbformat_minor": 2
}
