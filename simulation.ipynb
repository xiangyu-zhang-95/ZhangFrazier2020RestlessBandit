{
 "cells": [
  {
   "cell_type": "code",
   "execution_count": 1,
   "metadata": {},
   "outputs": [],
   "source": [
    "from LP import simulate_LP, LP_sol\n",
    "from KG import simulate_KG, KG_score, opt_KG_score\n",
    "from multiprocessing import Pool"
   ]
  },
  {
   "cell_type": "code",
   "execution_count": 2,
   "metadata": {},
   "outputs": [],
   "source": [
    "# return [N, M, mean, std, computation time]\n",
    "def simulation(T, alpha, N, M, policy):\n",
    "    if policy == \"fp\":\n",
    "        return simulate_LP(T, alpha, N, M)\n",
    "    if policy == \"kg\":\n",
    "        return simulate_KG(T, alpha, N, M, KG_score)\n",
    "    if policy == \"okg\":\n",
    "        return simulate_KG(T, alpha, N, M, opt_KG_score)\n",
    "    raise Exception(f\"Policy {policy} not recognized.\")\n",
    "\n",
    "def wrapper(args):\n",
    "    return simulation(*args)"
   ]
  },
  {
   "cell_type": "code",
   "execution_count": 3,
   "metadata": {},
   "outputs": [],
   "source": [
    "# return [fp results, kg results, okg results]\n",
    "# result = [optimality gap, T, alpha, number of arm, number of rounds]\n",
    "def simulation_all_policies(T, alpha, N, M):\n",
    "    m = LP_sol(T=T, alpha=alpha)\n",
    "    objVal = m.objVal\n",
    "    \n",
    "    args = (T, alpha, N, M)\n",
    "    with Pool(3) as p:\n",
    "        res = p.map(wrapper, [(*args, \"fp\"), (*args, \"kg\"), (*args, \"okg\")])\n",
    "    res = [[objVal * N - item[2]] + list(item) for item in res]\n",
    "    return res"
   ]
  },
  {
   "cell_type": "code",
   "execution_count": 4,
   "metadata": {},
   "outputs": [],
   "source": [
    "import pandas as pd\n",
    "import numpy as np"
   ]
  },
  {
   "cell_type": "code",
   "execution_count": 5,
   "metadata": {},
   "outputs": [],
   "source": [
    "fp_df  = pd.DataFrame(index=[\"opt-gap\", \"N\", \"M\", \"expect-reward\", \"std\", \"time\"])\n",
    "kg_df  = pd.DataFrame(index=[\"opt-gap\", \"N\", \"M\", \"expect-reward\", \"std\", \"time\"])\n",
    "okg_df = pd.DataFrame(index=[\"opt-gap\", \"N\", \"M\", \"expect-reward\", \"std\", \"time\"])"
   ]
  },
  {
   "cell_type": "code",
   "execution_count": 6,
   "metadata": {},
   "outputs": [],
   "source": [
    "T, alpha = 7, 1/4"
   ]
  },
  {
   "cell_type": "code",
   "execution_count": 15,
   "metadata": {},
   "outputs": [],
   "source": [
    "for N in range(40, 160, 40):\n",
    "    res = simulation_all_policies(T, alpha, N, 10 * N)\n",
    "    dfs = [fp_df, kg_df, okg_df]\n",
    "    fnames = [\"fp.csv\", \"kg.csv\", \"okg.csv\"]\n",
    "    for i in range(3):\n",
    "        dfs[i][N] = res[i]\n",
    "        dfs[i].to_csv(fnames[i], index=True)\n",
    "    print(f\"N={N} finished.\")\n",
    "    \n",
    "    \n"
   ]
  }
 ],
 "metadata": {
  "kernelspec": {
   "display_name": "Python 3",
   "language": "python",
   "name": "python3"
  },
  "language_info": {
   "codemirror_mode": {
    "name": "ipython",
    "version": 3
   },
   "file_extension": ".py",
   "mimetype": "text/x-python",
   "name": "python",
   "nbconvert_exporter": "python",
   "pygments_lexer": "ipython3",
   "version": "3.7.4"
  }
 },
 "nbformat": 4,
 "nbformat_minor": 4
}
